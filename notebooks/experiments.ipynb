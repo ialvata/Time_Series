{
 "cells": [
  {
   "cell_type": "code",
   "execution_count": 2,
   "metadata": {},
   "outputs": [],
   "source": [
    "import pandas as pd\n",
    "import numpy as np"
   ]
  },
  {
   "cell_type": "code",
   "execution_count": 4,
   "metadata": {},
   "outputs": [
    {
     "data": {
      "text/html": [
       "<style type=\"text/css\">\n",
       "</style>\n",
       "<table id=\"T_3be97\">\n",
       "  <thead>\n",
       "    <tr>\n",
       "      <th class=\"blank level0\" >&nbsp;</th>\n",
       "      <th id=\"T_3be97_level0_col0\" class=\"col_heading level0 col0\" >0</th>\n",
       "      <th id=\"T_3be97_level0_col1\" class=\"col_heading level0 col1\" >1</th>\n",
       "      <th id=\"T_3be97_level0_col2\" class=\"col_heading level0 col2\" >2</th>\n",
       "    </tr>\n",
       "  </thead>\n",
       "  <tbody>\n",
       "    <tr>\n",
       "      <th id=\"T_3be97_level0_row0\" class=\"row_heading level0 row0\" >0</th>\n",
       "      <td id=\"T_3be97_row0_col0\" class=\"data row0 col0\" >MISS</td>\n",
       "      <td id=\"T_3be97_row0_col1\" class=\"data row0 col1\" >1.000</td>\n",
       "      <td id=\"T_3be97_row0_col2\" class=\"data row0 col2\" >A</td>\n",
       "    </tr>\n",
       "    <tr>\n",
       "      <th id=\"T_3be97_level0_row1\" class=\"row_heading level0 row1\" >1</th>\n",
       "      <td id=\"T_3be97_row1_col0\" class=\"data row1 col0\" >2.000</td>\n",
       "      <td id=\"T_3be97_row1_col1\" class=\"data row1 col1\" >MISS</td>\n",
       "      <td id=\"T_3be97_row1_col2\" class=\"data row1 col2\" >3.000</td>\n",
       "    </tr>\n",
       "  </tbody>\n",
       "</table>\n"
      ],
      "text/plain": [
       "<pandas.io.formats.style.Styler at 0x7f3bbb767670>"
      ]
     },
     "execution_count": 4,
     "metadata": {},
     "output_type": "execute_result"
    }
   ],
   "source": [
    "df = pd.DataFrame([[np.nan, 1.0, 'A'], [2.0, np.nan, 3.0]])\n",
    "df.style.format(na_rep='MISS', precision=3)"
   ]
  },
  {
   "cell_type": "code",
   "execution_count": null,
   "metadata": {},
   "outputs": [],
   "source": []
  }
 ],
 "metadata": {
  "kernelspec": {
   "display_name": ".env",
   "language": "python",
   "name": "python3"
  },
  "language_info": {
   "codemirror_mode": {
    "name": "ipython",
    "version": 3
   },
   "file_extension": ".py",
   "mimetype": "text/x-python",
   "name": "python",
   "nbconvert_exporter": "python",
   "pygments_lexer": "ipython3",
   "version": "3.10.12"
  },
  "orig_nbformat": 4
 },
 "nbformat": 4,
 "nbformat_minor": 2
}
