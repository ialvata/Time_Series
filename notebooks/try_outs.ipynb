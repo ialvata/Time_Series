{
 "cells": [
  {
   "cell_type": "code",
   "execution_count": 1,
   "metadata": {},
   "outputs": [],
   "source": [
    "import pandas as pd"
   ]
  },
  {
   "cell_type": "code",
   "execution_count": 5,
   "metadata": {},
   "outputs": [
    {
     "data": {
      "text/plain": [
       "DatetimeIndex(['1949-01-31', '1949-02-28', '1949-03-31', '1949-04-30',\n",
       "               '1949-05-31', '1949-06-30', '1949-07-31', '1949-08-31',\n",
       "               '1949-09-30', '1949-10-31',\n",
       "               ...\n",
       "               '1960-02-29', '1960-03-31', '1960-04-30', '1960-05-31',\n",
       "               '1960-06-30', '1960-07-31', '1960-08-31', '1960-09-30',\n",
       "               '1960-10-31', '1960-11-30'],\n",
       "              dtype='datetime64[ns]', length=143, freq='M')"
      ]
     },
     "execution_count": 5,
     "metadata": {},
     "output_type": "execute_result"
    }
   ],
   "source": [
    "pd.date_range(\"1949-01\",\"1960-12\",freq=\"M\")"
   ]
  },
  {
   "cell_type": "code",
   "execution_count": 3,
   "metadata": {},
   "outputs": [],
   "source": [
    "def invert_differencing(differenced_data, n):\n",
    "    inverted_data = [differenced_data[0]]  # Initialize with the first value of the differenced data\n",
    "\n",
    "    for i in range(1, len(differenced_data)):\n",
    "        print(\"i-n = \", i-n)\n",
    "        inverted_value = differenced_data[i] + inverted_data[i - n]\n",
    "        inverted_data.append(inverted_value)\n",
    "\n",
    "    return inverted_data"
   ]
  },
  {
   "cell_type": "code",
   "execution_count": 4,
   "metadata": {},
   "outputs": [
    {
     "name": "stdout",
     "output_type": "stream",
     "text": [
      "i-n =  -1\n",
      "i-n =  0\n",
      "i-n =  1\n",
      "i-n =  2\n",
      "[3, 2, 5, -2, 6]\n"
     ]
    }
   ],
   "source": [
    "# Example usage:\n",
    "differenced_series = [3, -1, 2, -4, 1]  # Replace this with your actual differenced data\n",
    "period_n = 2  # Replace this with the actual differencing period\n",
    "\n",
    "inverted_series = invert_differencing(differenced_series, period_n)\n",
    "print(inverted_series)\n"
   ]
  },
  {
   "cell_type": "code",
   "execution_count": null,
   "metadata": {},
   "outputs": [],
   "source": []
  }
 ],
 "metadata": {
  "kernelspec": {
   "display_name": ".env",
   "language": "python",
   "name": "python3"
  },
  "language_info": {
   "codemirror_mode": {
    "name": "ipython",
    "version": 3
   },
   "file_extension": ".py",
   "mimetype": "text/x-python",
   "name": "python",
   "nbconvert_exporter": "python",
   "pygments_lexer": "ipython3",
   "version": "3.10.6"
  },
  "orig_nbformat": 4
 },
 "nbformat": 4,
 "nbformat_minor": 2
}
