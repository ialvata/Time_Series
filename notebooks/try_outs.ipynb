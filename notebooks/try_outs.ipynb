{
 "cells": [
  {
   "cell_type": "code",
   "execution_count": 1,
   "metadata": {},
   "outputs": [],
   "source": [
    "import pandas as pd"
   ]
  },
  {
   "cell_type": "code",
   "execution_count": 5,
   "metadata": {},
   "outputs": [
    {
     "data": {
      "text/plain": [
       "DatetimeIndex(['1949-01-31', '1949-02-28', '1949-03-31', '1949-04-30',\n",
       "               '1949-05-31', '1949-06-30', '1949-07-31', '1949-08-31',\n",
       "               '1949-09-30', '1949-10-31',\n",
       "               ...\n",
       "               '1960-02-29', '1960-03-31', '1960-04-30', '1960-05-31',\n",
       "               '1960-06-30', '1960-07-31', '1960-08-31', '1960-09-30',\n",
       "               '1960-10-31', '1960-11-30'],\n",
       "              dtype='datetime64[ns]', length=143, freq='M')"
      ]
     },
     "execution_count": 5,
     "metadata": {},
     "output_type": "execute_result"
    }
   ],
   "source": [
    "pd.date_range(\"1949-01\",\"1960-12\",freq=\"M\")"
   ]
  },
  {
   "cell_type": "code",
   "execution_count": null,
   "metadata": {},
   "outputs": [],
   "source": []
  }
 ],
 "metadata": {
  "kernelspec": {
   "display_name": ".env",
   "language": "python",
   "name": "python3"
  },
  "language_info": {
   "codemirror_mode": {
    "name": "ipython",
    "version": 3
   },
   "file_extension": ".py",
   "mimetype": "text/x-python",
   "name": "python",
   "nbconvert_exporter": "python",
   "pygments_lexer": "ipython3",
   "version": "3.10.6"
  },
  "orig_nbformat": 4
 },
 "nbformat": 4,
 "nbformat_minor": 2
}
